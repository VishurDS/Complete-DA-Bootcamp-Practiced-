{
 "cells": [
  {
   "cell_type": "markdown",
   "metadata": {},
   "source": [
    "# Conditional Statement (if, elif, else)\n",
    "\n",
    "1. Introduction to conditional statements\n",
    "2. if statement\n",
    "3. elif statement\n",
    "4. Nested Conditional Statements\n",
    "6. Practical Examples\n",
    "7. Common errors and best pratices\n"
   ]
  },
  {
   "cell_type": "markdown",
   "metadata": {},
   "source": [
    "### if statement\n",
    "The if statement executes if the if condition is True"
   ]
  },
  {
   "cell_type": "code",
   "execution_count": 4,
   "metadata": {},
   "outputs": [
    {
     "name": "stdout",
     "output_type": "stream",
     "text": [
      "You are allowed to vote in elections\n"
     ]
    }
   ],
   "source": [
    "age = 20\n",
    "if age >= 18:\n",
    "    print(\"You are allowed to vote in elections\")"
   ]
  },
  {
   "cell_type": "markdown",
   "metadata": {},
   "source": [
    "### else statement \n",
    "The else statement executes a block of code if the condition in the if statement is False"
   ]
  },
  {
   "cell_type": "code",
   "execution_count": 7,
   "metadata": {},
   "outputs": [
    {
     "name": "stdout",
     "output_type": "stream",
     "text": [
      "You are not eligible for vote \n",
      "You are a minor\n"
     ]
    }
   ],
   "source": [
    "age = 16\n",
    "if age >= 18:\n",
    "    print(\"You are eligible for voting\")\n",
    "else:\n",
    "    print('You are not eligible for vote \\nYou are a minor')"
   ]
  },
  {
   "cell_type": "markdown",
   "metadata": {},
   "source": [
    "### elif statement\n",
    "The elif statement allows you to check multiple conditions. It stands for \"else if\""
   ]
  },
  {
   "cell_type": "code",
   "execution_count": 9,
   "metadata": {},
   "outputs": [
    {
     "name": "stdout",
     "output_type": "stream",
     "text": [
      "You are an adult\n"
     ]
    }
   ],
   "source": [
    "#example\n",
    "\n",
    "age = 20\n",
    "\n",
    "if age < 13:\n",
    "    print(\"You are a child\")\n",
    "elif age < 18:\n",
    "    print(\"You are a teenager\")\n",
    "else:\n",
    "    print(\"You are an adult\")"
   ]
  },
  {
   "cell_type": "markdown",
   "metadata": {},
   "source": [
    "### Nested conditional statements\n",
    "We can place one or more if, elif, or else statements inside another if, elif, or else statements to create nested conditional statements"
   ]
  },
  {
   "cell_type": "code",
   "execution_count": 11,
   "metadata": {},
   "outputs": [
    {
     "name": "stdout",
     "output_type": "stream",
     "text": [
      "The number is zero or negative\n"
     ]
    }
   ],
   "source": [
    "## number even odd or negative\n",
    "\n",
    "num = int(input(\"Enter the number\"))\n",
    "\n",
    "if num > 0:\n",
    "    print(\"Number is positive\")\n",
    "    if num % 2 == 0:\n",
    "        print(\"The number is even\")\n",
    "    else: \n",
    "        print(\"The number is odd\")\n",
    "else: \n",
    "    print(\"The number is zero or negative\")"
   ]
  },
  {
   "cell_type": "markdown",
   "metadata": {},
   "source": [
    "### Practical Examples"
   ]
  },
  {
   "cell_type": "code",
   "execution_count": 21,
   "metadata": {},
   "outputs": [
    {
     "name": "stdout",
     "output_type": "stream",
     "text": [
      "2200 is not a leap year\n"
     ]
    }
   ],
   "source": [
    "##Determine if year is leap year or not\n",
    "## year is divided by 4, 100 or 400 then it is leap year\n",
    "\n",
    "year = int(input(\"Please enter year in YYYY format\"))\n",
    "\n",
    "if (year % 4 == 0):\n",
    "    if year%100 == 0:\n",
    "        if year%400 == 0:\n",
    "            print(year, \"is a leap year\")\n",
    "        else:\n",
    "            print(year, \"is not a leap year\")\n",
    "    else:\n",
    "        print(year,\"is leap year\")\n",
    "else:\n",
    "    print('Given year', year, 'is not a leap year')"
   ]
  },
  {
   "cell_type": "code",
   "execution_count": 24,
   "metadata": {},
   "outputs": [
    {
     "name": "stdout",
     "output_type": "stream",
     "text": [
      "Subtraction of two number is 20\n"
     ]
    }
   ],
   "source": [
    "##Assignment \n",
    "## Simple calulator program\n",
    "num1 = int(input('Enter the first number'))\n",
    "num2 = int(input(\"Enter the second number\"))\n",
    "\n",
    "operation = input('Enter operation from +,*,/,-')\n",
    "\n",
    "if operation == '+':\n",
    "    result  = num1 + num2\n",
    "    print(\"Addition of two number is\", result)\n",
    "elif operation == '*':\n",
    "    result = num1 * num2\n",
    "    print('Multiplication of two number is', result)\n",
    "elif operation == '/':\n",
    "    if num2 != 0:\n",
    "        result = num1/num2\n",
    "    else:\n",
    "        result = \"Error! Division by zero\"\n",
    "    print('Division of two number is', result)\n",
    "elif operation == '-':\n",
    "    result =  num1 - num2\n",
    "    print('Subtraction of two number is', result)\n",
    "else:\n",
    "    print('Please enter a valid operation')"
   ]
  },
  {
   "cell_type": "code",
   "execution_count": 25,
   "metadata": {},
   "outputs": [
    {
     "name": "stdout",
     "output_type": "stream",
     "text": [
      "Ticket price $18\n"
     ]
    }
   ],
   "source": [
    "## Determine the ticket price based on the age and whether the person is a student\n",
    "## take user input\n",
    "age =  int(input(\"Enter your age: \"))\n",
    "is_student = input('Are you a student? (yes or no): ').lower()\n",
    "\n",
    "#Detetmine ticekt prices\n",
    "if age < 5:\n",
    "    price = 'Free'\n",
    "elif age <= 12:\n",
    "    price = \"$10\"\n",
    "elif age <=17:\n",
    "    if is_student == 'yes':\n",
    "        price = '$12'\n",
    "    else:\n",
    "        price = '$15'\n",
    "elif age <= 64:\n",
    "    if is_student == 'yes':\n",
    "        price = '$18'\n",
    "    else:\n",
    "        price = '$25'\n",
    "else: \n",
    "    price = '$20'\n",
    "\n",
    "print(\"Ticket price\", price)\n",
    "\n"
   ]
  },
  {
   "cell_type": "code",
   "execution_count": null,
   "metadata": {},
   "outputs": [],
   "source": []
  }
 ],
 "metadata": {
  "kernelspec": {
   "display_name": "Python 3",
   "language": "python",
   "name": "python3"
  },
  "language_info": {
   "codemirror_mode": {
    "name": "ipython",
    "version": 3
   },
   "file_extension": ".py",
   "mimetype": "text/x-python",
   "name": "python",
   "nbconvert_exporter": "python",
   "pygments_lexer": "ipython3",
   "version": "3.12.0"
  }
 },
 "nbformat": 4,
 "nbformat_minor": 2
}
